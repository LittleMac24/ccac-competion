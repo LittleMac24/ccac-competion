{
 "cells": [
  {
   "cell_type": "code",
   "execution_count": null,
   "metadata": {},
   "outputs": [],
   "source": [
    "#EDA\n",
    "# sns.scatterplot(x = college_info_ken_df['win_%'], y = college_info_ken_df['RegularSeasonAverageAttendance'])\n",
    "\n",
    "\n",
    "##---------------------------------------------------------------------------\n",
    "#num_brackets_df_train[num_brackets_df_train['bracket_entry_count'] > 1]\n",
    "\n",
    "# perc_Id_w_multiple_brackets = num_brackets_df[num_brackets_df['BracketEntryId'] > 1].shape[0] / num_brackets_df.shape[0]\n",
    "# print(perc_Id_w_multiple_brackets)\n",
    "# #We can see that the majority of customers have bracket entries of 1-4\n",
    "# ax = sns.histplot(num_brackets_df_train['bracket_entry_count'], bins=15)\n",
    "# ax.set_title('Histogram of Bracket Entry Count')\n",
    "# plt.show()\n",
    "##---------------------------------------------------------------------------\n",
    "\n",
    "# #Sample graph to show that Customers do not care about How much their team wins!\n",
    "# plt.figure(figsize=(15,15))\n",
    "# ax_attendance = sns.scatterplot(x = classic1_df_train['m_win_%'], y = classic1_df_train['M_RegularSeasonAverageAttendance'], hue=classic1_df_train['M_InstitutionName'])\n",
    "# plt.show()\n",
    "##---------------------------------------------------------------------------\n",
    "# #76097 Customer Ids and It seems that 445 customers created multiple brackets\n",
    "# #76097 - 75652 = 445\n",
    "\n",
    "#distance to actual winner of their brakcet?\n",
    "# classic1_df_train = classic1_df_train.join(distances_ew_df.loc[:, ['CustomerID', 'duration', 'distance']].add_prefix('EW_'), how='left', on='CustomerID')\n",
    "\n",
    "\n",
    "##---------------------------------------------------------------------------\n",
    "\n",
    "# '''Evaluation of Metrics'''\n",
    "# # %pip install openpyxl\n",
    "# corr = model_1_df.loc[:, ['team_win_diff_ms','team_win_diff_ew','closeness_ms', 'closeness_ew','SemifinalWinner_South_Midwest', 'SemifinalWinner_East_West']].corr()\n",
    "\n",
    "# # corr.to_excel('~/Desktop/output.xlsx', index=False)\n",
    "\n",
    "# plt.figure(figsize=(10,10))\n",
    "# sns.heatmap(corr, annot=True)\n",
    "# plt.show()\n",
    "\n",
    "\n"
   ]
  }
 ],
 "metadata": {
  "language_info": {
   "name": "python"
  }
 },
 "nbformat": 4,
 "nbformat_minor": 2
}
